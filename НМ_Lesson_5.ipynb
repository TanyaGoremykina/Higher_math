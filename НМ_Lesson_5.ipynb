{
 "cells": [
  {
   "cell_type": "code",
   "execution_count": 1,
   "metadata": {},
   "outputs": [],
   "source": [
    "%matplotlib inline\n",
    "import numpy as np\n",
    "import matplotlib.pyplot as plt\n",
    "import scipy.stats as sts\n",
    "import itertools"
   ]
  },
  {
   "cell_type": "markdown",
   "metadata": {},
   "source": [
    "## Элементы теории вероятностей\n",
    "\n",
    "1\\. Напишите код, моделирующий выпадение поля в рулетке (с учетом поля зеро)."
   ]
  },
  {
   "cell_type": "code",
   "execution_count": 2,
   "metadata": {},
   "outputs": [
    {
     "name": "stdout",
     "output_type": "stream",
     "text": [
      "31\n",
      "34\n",
      "31\n",
      "6\n",
      "30\n"
     ]
    }
   ],
   "source": [
    "for i in range(0,5):\n",
    "    x = np.random.randint(0, 37) # от 0 до 36 включительно\n",
    "    print(x)"
   ]
  },
  {
   "cell_type": "markdown",
   "metadata": {},
   "source": [
    "2\\.1 Напишите код, проверяющий любую из теорем сложения или умножения вероятности на примере рулетки или подбрасывания монетки. \n",
    "\n",
    "Проверим на примере подбрасывания монетки. Так как события выпадения \"орла\" и \"решки\" несовместны, то сумма вероятностей их выпадения должна быть равна 1. "
   ]
  },
  {
   "cell_type": "code",
   "execution_count": 3,
   "metadata": {},
   "outputs": [
    {
     "name": "stdout",
     "output_type": "stream",
     "text": [
      "Вероятность выпадения орла: 0.630000, решки: 0.370000. Сумма вероятностей: 1.000000\n"
     ]
    }
   ],
   "source": [
    "n = 100 # количество подбрасываний монетки\n",
    "X = np.random.randint(0, 2, size=n) # 0 - орёл, 1 - решка.\n",
    "\n",
    "a = len(X[X == 0]) # число орлов\n",
    "b = len(X[X == 1]) # число решек\n",
    "\n",
    "pa = a / n\n",
    "pb = b / n\n",
    "\n",
    "print('Вероятность выпадения орла: %f, решки: %f. Сумма вероятностей: %f' % (pa, pb, pa+pb))"
   ]
  },
  {
   "cell_type": "markdown",
   "metadata": {},
   "source": [
    "2\\.2 Сгенерируйте десять выборок случайных чисел х0, …, х9. Постройте гистограмму распределения случайной суммы х0+х1+ …+ х9."
   ]
  },
  {
   "cell_type": "code",
   "execution_count": 4,
   "metadata": {},
   "outputs": [
    {
     "data": {
      "image/png": "[encoded data removed]",
      "text/plain": [
       "<Figure size 432x288 with 1 Axes>"
      ]
     },
     "metadata": {
      "needs_background": "light"
     },
     "output_type": "display_data"
    }
   ],
   "source": [
    "n = 10 # число испытаний\n",
    "m = 1000 # число опытов в испытании\n",
    "\n",
    "x0 = np.random.uniform(0, 1, size=m)\n",
    "x1 = np.random.uniform(0, 1, size=m)\n",
    "x2 = np.random.uniform(0, 1, size=m)\n",
    "x3 = np.random.uniform(0, 1, size=m)\n",
    "x4 = np.random.uniform(0, 1, size=m)\n",
    "x5 = np.random.uniform(0, 1, size=m)\n",
    "x6 = np.random.uniform(0, 1, size=m)\n",
    "x7 = np.random.uniform(0, 1, size=m)\n",
    "x8 = np.random.uniform(0, 1, size=m)\n",
    "x9 = np.random.uniform(0, 1, size=m)\n",
    "\n",
    "s = x0+x1+x2+x3+x4+x5+x6+x7+x8+x9\n",
    "bins = 20\n",
    "plt.hist(s, bins, density=1, facecolor='blue', alpha=0.5)\n",
    "\n",
    "s_l = np.linspace(s.min(), s.max(), bins+1)\n",
    "dens = sts.norm.pdf(s_l, loc=s.mean(), scale=s.std())\n",
    "mu, sigma = sts.norm.fit(s)\n",
    "plt.plot(s_l, dens, 'r--')\n",
    "\n",
    "plt.xlabel('s')\n",
    "plt.ylabel('Probability')\n",
    "plt.title('Histogram: $\\mu=%f$, $\\sigma=%f$' % (mu, sigma))\n",
    "plt.show()"
   ]
  },
  {
   "cell_type": "markdown",
   "metadata": {},
   "source": [
    "Среднее значение равно 5, так как среднее значение в каждом испытании равно 0,5, а всего проводим 10 испытаний."
   ]
  },
  {
   "cell_type": "markdown",
   "metadata": {},
   "source": [
    "3\\.1 Дополните код Монте-Карло последовательности независимых испытаний расчетом соответствующих вероятностей (через биномиальное распределение) и сравните результаты."
   ]
  },
  {
   "cell_type": "code",
   "execution_count": 5,
   "metadata": {},
   "outputs": [
    {
     "name": "stdout",
     "output_type": "stream",
     "text": [
      "3704 10000 0.3704\n"
     ]
    }
   ],
   "source": [
    "k, n = 0, 10000\n",
    "a = np.random.randint(0, 2, n)\n",
    "b = np.random.randint(0, 2, n)\n",
    "c = np.random.randint(0, 2, n)\n",
    "d = np.random.randint(0, 2, n)\n",
    "\n",
    "x = a + b + c + d\n",
    "\n",
    "for i in range(0, n):\n",
    "    if x[i] == 2:\n",
    "        k = k + 1\n",
    "        \n",
    "print(k, n, k/n)"
   ]
  },
  {
   "cell_type": "markdown",
   "metadata": {},
   "source": [
    "$$\n",
    "C_n^k = \\frac{n!}{k!(n-k)!} \\\\\n",
    "C_{4}^2 = \\frac{4!}{2!2!} = 6\n",
    "$$\n",
    "\n",
    "$$\n",
    "P_{n}(k) = C_{n}^k{p}^k{(1-p)}^{n-k} \\\\\n",
    "P_{4}(2) = C_{4}^2{0.5}^2{0.5}^{2} = 0.375\n",
    "$$\n",
    "\n",
    "Результаты похожи."
   ]
  },
  {
   "cell_type": "markdown",
   "metadata": {},
   "source": [
    "3\\.2 Повторите расчеты биномиальных коэффициентов и вероятностей k успехов в последовательности из n независимых испытаний, взяв другие значения n и k."
   ]
  },
  {
   "cell_type": "code",
   "execution_count": 6,
   "metadata": {},
   "outputs": [
    {
     "name": "stdout",
     "output_type": "stream",
     "text": [
      "2635 10000 0.2635\n"
     ]
    }
   ],
   "source": [
    "k = 0\n",
    "for i in range(0, n):\n",
    "    if x[i] == 1:\n",
    "        k = k + 1\n",
    "        \n",
    "print(k, n, k/n)"
   ]
  },
  {
   "cell_type": "markdown",
   "metadata": {},
   "source": [
    "$$\n",
    "C_{4}^1 = \\frac{4!}{1!3!} = 4\n",
    "$$\n",
    "\n",
    "$$\n",
    "P_{4}(1) = C_{4}^1{0.5}^1{0.5}^{3} = 0.25\n",
    "$$\n",
    "\n",
    "Результаты так же почти совпадают."
   ]
  },
  {
   "cell_type": "markdown",
   "metadata": {},
   "source": [
    "4\\. Из урока по комбинаторике повторите расчеты, сгенерировав возможные варианты перестановок для других значений n и k."
   ]
  },
  {
   "cell_type": "markdown",
   "metadata": {},
   "source": [
    "4\\.1 Размещения $A_n^k=n(n-1)...(n-k+1)$.\n",
    "\n",
    "Для $n=3, k=2: A_3^2=6$"
   ]
  },
  {
   "cell_type": "code",
   "execution_count": 7,
   "metadata": {},
   "outputs": [
    {
     "name": "stdout",
     "output_type": "stream",
     "text": [
      "01\n",
      "02\n",
      "10\n",
      "12\n",
      "20\n",
      "21\n"
     ]
    }
   ],
   "source": [
    "for p in itertools.permutations(\"012\", 2):\n",
    "    print(''.join(p))"
   ]
  },
  {
   "cell_type": "markdown",
   "metadata": {},
   "source": [
    "4\\.2 Перестановки - то же самое что и размещения, но при n=k.\n",
    "Для $n=3, k=3: A_3^3=6$"
   ]
  },
  {
   "cell_type": "code",
   "execution_count": 8,
   "metadata": {},
   "outputs": [
    {
     "name": "stdout",
     "output_type": "stream",
     "text": [
      "012\n",
      "021\n",
      "102\n",
      "120\n",
      "201\n",
      "210\n"
     ]
    }
   ],
   "source": [
    "for p in itertools.permutations(\"012\", 3):\n",
    "    print(''.join(p))"
   ]
  },
  {
   "cell_type": "markdown",
   "metadata": {},
   "source": [
    "4\\.3 Сочетания $С_n^k=\\frac{n!}{k!(n-k)!}$.\n",
    "\n",
    "Для $n=3, k=2: С_3^2=3$"
   ]
  },
  {
   "cell_type": "code",
   "execution_count": 9,
   "metadata": {},
   "outputs": [
    {
     "name": "stdout",
     "output_type": "stream",
     "text": [
      "01\n",
      "02\n",
      "12\n"
     ]
    }
   ],
   "source": [
    "for p in itertools.combinations(\"012\", 2):\n",
    "    print(''.join(p))"
   ]
  },
  {
   "cell_type": "markdown",
   "metadata": {},
   "source": [
    "5\\. Дополните код расчетом коэффициента корреляции x и y по формуле\n",
    "\n",
    "$$\n",
    "R = \\frac{\\sum{(x_i-x_m)(y_i-y_m)}}{\\sqrt{\\sum{(x_i-x_m)^2}\\sum{(y_i-y_m)^2}}}\n",
    "$$"
   ]
  },
  {
   "cell_type": "code",
   "execution_count": 10,
   "metadata": {},
   "outputs": [
    {
     "name": "stdout",
     "output_type": "stream",
     "text": [
      "0.8879335484676241 0.05968668183534355\n",
      "0.8879335484676251 0.059686681835342946\n"
     ]
    },
    {
     "data": {
      "image/png": "[encoded data removed]",
      "text/plain": [
       "<Figure size 432x288 with 1 Axes>"
      ]
     },
     "metadata": {
      "needs_background": "light"
     },
     "output_type": "display_data"
    },
    {
     "name": "stdout",
     "output_type": "stream",
     "text": [
      "0.9933972028179885\n",
      "0.9933972028179884\n"
     ]
    }
   ],
   "source": [
    "# Задаём два случайных вектора x и y с корреляцией r\n",
    "n = 100\n",
    "r = 0.9\n",
    "x = np.random.rand(n)\n",
    "y = r*x + (1 - r)*np.random.rand(n)\n",
    "plt.plot(x, y, 'o')\n",
    "\n",
    "# Расчет коэффициентов зависимости y=ax+b\n",
    "\n",
    "# в ручную\n",
    "a = (np.sum(x)*np.sum(y) - n*np.sum(x*y)) / (np.sum(x)**2 - n*np.sum(x**2))\n",
    "b = (np.sum(y) - a*np.sum(x)) / n\n",
    "print(a,b)\n",
    "\n",
    "# с помощью библиотеки\n",
    "A = np.vstack([x, np.ones(len(x))]).T\n",
    "a1, b1 = np.linalg.lstsq(A, y, rcond=None)[0]\n",
    "print(a1, b1)\n",
    "\n",
    "# Построение графиков\n",
    "plt.plot([0, 1], [b, a+b])\n",
    "plt.xlabel('x')\n",
    "plt.ylabel('y')\n",
    "plt.grid()\n",
    "\n",
    "plt.show()\n",
    "\n",
    "# Расчет коэффицииента корреляции\n",
    "\n",
    "# в ручную\n",
    "r = np.sum( (x-x.mean()) * (y-y.mean()) ) / np.sqrt( np.sum((x-x.mean())**2) * np.sum((y-y.mean())**2) )\n",
    "print(r)\n",
    "\n",
    "# с помощью библиотеки\n",
    "r1 = np.corrcoef(x, y)[0, 1]\n",
    "print(r1)"
   ]
  },
  {
   "cell_type": "markdown",
   "metadata": {},
   "source": [
    "Рассчитанные в ручную и с помощью библиотек, коэффициенты корреляции совпадают."
   ]
  },
  {
   "cell_type": "markdown",
   "metadata": {},
   "source": [
    "6\\. Чтобы не потерялось, оставлю это тут как пример."
   ]
  },
  {
   "cell_type": "code",
   "execution_count": 11,
   "metadata": {},
   "outputs": [
    {
     "data": {
      "image/png": "[encoded data removed]",
      "text/plain": [
       "<Figure size 432x288 with 1 Axes>"
      ]
     },
     "metadata": {
      "needs_background": "light"
     },
     "output_type": "display_data"
    }
   ],
   "source": [
    "mu = 100\n",
    "sigma = 15\n",
    "x = mu + sigma*np.random.randn(10000)\n",
    "bins = 20\n",
    "plt.hist(x, bins, density=1, facecolor='blue', alpha=0.5)\n",
    "\n",
    "xmin, xmax = x.min(), x.max()\n",
    "x_l = np.linspace(xmin, xmax, bins+1)\n",
    "dens = sts.norm.pdf(x_l, loc=mu, scale=sigma)\n",
    "mu, sigma = sts.norm.fit(x)\n",
    "plt.plot(x_l, dens, 'r--')\n",
    "\n",
    "plt.xlabel('x')\n",
    "plt.ylabel('Probability')\n",
    "plt.title('Histogram: $\\mu=100$, $\\sigma=15$')\n",
    "plt.subplots_adjust(left=0.15)\n",
    "plt.show()"
   ]
  },
  {
   "cell_type": "code",
   "execution_count": null,
   "metadata": {},
   "outputs": [],
   "source": []
  }
 ],
 "metadata": {
  "kernelspec": {
   "display_name": "Python 3 (ipykernel)",
   "language": "python",
   "name": "python3"
  },
  "language_info": {
   "codemirror_mode": {
    "name": "ipython",
    "version": 3
   },
   "file_extension": ".py",
   "mimetype": "text/x-python",
   "name": "python",
   "nbconvert_exporter": "python",
   "pygments_lexer": "ipython3",
   "version": "3.9.7"
  }
 },
 "nbformat": 4,
 "nbformat_minor": 4
}
